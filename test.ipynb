{
 "cells": [
  {
   "cell_type": "code",
   "execution_count": 1,
   "metadata": {},
   "outputs": [
    {
     "ename": "NameError",
     "evalue": "name 'model' is not defined",
     "output_type": "error",
     "traceback": [
      "\u001b[1;31m---------------------------------------------------------------------------\u001b[0m",
      "\u001b[1;31mNameError\u001b[0m                                 Traceback (most recent call last)",
      "Cell \u001b[1;32mIn[1], line 36\u001b[0m\n\u001b[0;32m     34\u001b[0m predicted_labels \u001b[38;5;241m=\u001b[39m []\n\u001b[0;32m     35\u001b[0m \u001b[38;5;28;01mfor\u001b[39;00m comment \u001b[38;5;129;01min\u001b[39;00m test_df[\u001b[38;5;124m\"\u001b[39m\u001b[38;5;124mcomment\u001b[39m\u001b[38;5;124m\"\u001b[39m]:\n\u001b[1;32m---> 36\u001b[0m     pred_label \u001b[38;5;241m=\u001b[39m predict(comment, \u001b[43mmodel\u001b[49m, tokenizer)\n\u001b[0;32m     37\u001b[0m     predicted_labels\u001b[38;5;241m.\u001b[39mappend(pred_label)\n\u001b[0;32m     39\u001b[0m \u001b[38;5;66;03m# 4. Tambahkan hasil prediksi ke dataset\u001b[39;00m\n",
      "\u001b[1;31mNameError\u001b[0m: name 'model' is not defined"
     ]
    }
   ],
   "source": [
    "import pandas as pd\n",
    "import torch\n",
    "from transformers import AutoTokenizer\n",
    "\n",
    "# 1. Load dataset CSV yang berisi komentar\n",
    "test_df = pd.read_csv(\"./dataset/comments.csv\")  # Ganti dengan path file Anda\n",
    "\n",
    "# Pastikan dataset memiliki kolom \"comment\"\n",
    "if \"comment\" not in test_df.columns:\n",
    "    raise ValueError(\"Kolom 'comment' tidak ditemukan dalam dataset!\")\n",
    "\n",
    "# 2. Definisikan fungsi prediksi kembali (gunakan yang sudah dibuat sebelumnya)\n",
    "def predict(text, model, tokenizer):\n",
    "    encoding = tokenizer(\n",
    "        text,\n",
    "        truncation=True,\n",
    "        padding='max_length',\n",
    "        max_length=128,\n",
    "        return_tensors='pt'\n",
    "    )\n",
    "    \n",
    "    input_ids = encoding['input_ids'].to(device)\n",
    "    attention_mask = encoding['attention_mask'].to(device)\n",
    "    \n",
    "    with torch.no_grad():\n",
    "        output = model(input_ids, attention_mask)\n",
    "    \n",
    "    pred_class = output.argmax(dim=1).item()\n",
    "    \n",
    "    mapping = {0: \"negatif\", 1: \"netral\", 2: \"positif\"}\n",
    "    return mapping[pred_class]\n",
    "\n",
    "# 3. Lakukan prediksi untuk setiap komentar di dataset\n",
    "predicted_labels = []\n",
    "for comment in test_df[\"comment\"]:\n",
    "    pred_label = predict(comment, model, tokenizer)\n",
    "    predicted_labels.append(pred_label)\n",
    "\n",
    "# 4. Tambahkan hasil prediksi ke dataset\n",
    "test_df[\"predicted_label\"] = predicted_labels\n",
    "\n",
    "# 5. Simpan hasil prediksi ke file CSV baru\n",
    "output_path = \"test_comments_with_predictions.csv\"\n",
    "test_df.to_csv(output_path, index=False)\n",
    "print(f\"Hasil prediksi telah disimpan ke {output_path}\")\n"
   ]
  },
  {
   "cell_type": "code",
   "execution_count": null,
   "metadata": {},
   "outputs": [],
   "source": []
  }
 ],
 "metadata": {
  "kernelspec": {
   "display_name": "base",
   "language": "python",
   "name": "python3"
  },
  "language_info": {
   "codemirror_mode": {
    "name": "ipython",
    "version": 3
   },
   "file_extension": ".py",
   "mimetype": "text/x-python",
   "name": "python",
   "nbconvert_exporter": "python",
   "pygments_lexer": "ipython3",
   "version": "3.12.7"
  }
 },
 "nbformat": 4,
 "nbformat_minor": 2
}
