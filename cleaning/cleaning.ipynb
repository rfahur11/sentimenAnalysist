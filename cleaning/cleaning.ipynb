{
 "cells": [
  {
   "cell_type": "code",
   "execution_count": 30,
   "metadata": {},
   "outputs": [
    {
     "name": "stdout",
     "output_type": "stream",
     "text": [
      "No.        0\n",
      "comment    0\n",
      "label      0\n",
      "dtype: int64\n",
      "\n",
      "❓ Jumlah Missing Values:\n",
      "No.        0\n",
      "comment    0\n",
      "label      0\n",
      "dtype: int64\n",
      "\n",
      "♻️ Jumlah Duplikat: 1399\n"
     ]
    }
   ],
   "source": [
    "# Cek jumlah nilai yang hilang\n",
    "print(dataset.isnull().sum())\n",
    "\n",
    "print(\"\\n❓ Jumlah Missing Values:\")\n",
    "print(dataset.isnull().sum())\n",
    "\n",
    "print(\"\\n♻️ Jumlah Duplikat:\", dataset.duplicated(subset=['comment']).sum())\n"
   ]
  },
  {
   "cell_type": "markdown",
   "metadata": {},
   "source": [
    "### Cleaning Beuty Sentiment from datasets/sekarmulyani"
   ]
  },
  {
   "cell_type": "code",
   "execution_count": 4,
   "metadata": {},
   "outputs": [
    {
     "name": "stdout",
     "output_type": "stream",
     "text": [
      "DatasetDict({\n",
      "    train: Dataset({\n",
      "        features: ['Review', 'Bintang 1', 'Bintang 2', 'Bintang 3', 'Bintang 4', 'Bintang 5'],\n",
      "        num_rows: 57192\n",
      "    })\n",
      "    validation: Dataset({\n",
      "        features: ['Review', 'Bintang 1', 'Bintang 2', 'Bintang 3', 'Bintang 4', 'Bintang 5'],\n",
      "        num_rows: 15251\n",
      "    })\n",
      "    test: Dataset({\n",
      "        features: ['Review', 'Bintang 1', 'Bintang 2', 'Bintang 3', 'Bintang 4', 'Bintang 5'],\n",
      "        num_rows: 3813\n",
      "    })\n",
      "})\n"
     ]
    }
   ],
   "source": [
    "from datasets import load_dataset\n",
    "\n",
    "file_ds = load_dataset(\"sekarmulyani/ulasan-beauty-products\")\n",
    "print(file_ds)\n"
   ]
  },
  {
   "cell_type": "markdown",
   "metadata": {},
   "source": [
    "### Ubah format"
   ]
  },
  {
   "cell_type": "markdown",
   "metadata": {},
   "source": [
    "##### Train"
   ]
  },
  {
   "cell_type": "code",
   "execution_count": 16,
   "metadata": {},
   "outputs": [
    {
     "name": "stdout",
     "output_type": "stream",
     "text": [
      "                                             comment    label\n",
      "0  terima kasih shoppe paket ny udah datang denga...  Negatif\n",
      "1  kecewa sekali box nya kurang rapi dan produkny...  Negatif\n",
      "2  it's been days and the itch still haven't gone...  Negatif\n",
      "3  bukanny makin mulus malah tumbuh jerawat gede ...  Negatif\n",
      "4                pengalaman penggunaan:gampang patah  Negatif\n"
     ]
    }
   ],
   "source": [
    "import pandas as pd\n",
    "from datasets import load_dataset\n",
    "\n",
    "# Memuat dataset\n",
    "file_ds = load_dataset(\"sekarmulyani/ulasan-beauty-products\")\n",
    "df = pd.DataFrame(file_ds['train'])\n",
    "\n",
    "# Fungsi untuk mengategorikan label berdasarkan bintang\n",
    "def categorize_label(row):\n",
    "    if row['Bintang 4'] or row['Bintang 5']:\n",
    "        return \"Positif\"\n",
    "    elif row['Bintang 3']:\n",
    "        return \"Netral\"\n",
    "    elif row['Bintang 1'] or row['Bintang 2']:\n",
    "        return \"Negatif\"\n",
    "    else:\n",
    "        return \"Unknown\"\n",
    "\n",
    "# Menambahkan kolom label berdasarkan kondisi bintang\n",
    "df[\"label\"] = df.apply(categorize_label, axis=1)\n",
    "\n",
    "# Mengubah nama kolom Review menjadi comment\n",
    "df.rename(columns={\"Review\": \"comment\"}, inplace=True)\n",
    "\n",
    "# Menampilkan hasil hanya dengan kolom comment dan label\n",
    "print(df[[\"comment\", \"label\"]].head())\n",
    "\n",
    "# Opsional: Simpan ke file CSV jika diperlukan\n",
    "df[[\"comment\", \"label\"]].to_csv(\"../dataset/hg-Sekar/dataset-trainTerformat.csv\", index=False)\n"
   ]
  },
  {
   "cell_type": "markdown",
   "metadata": {},
   "source": [
    "#### Test"
   ]
  },
  {
   "cell_type": "code",
   "execution_count": 17,
   "metadata": {},
   "outputs": [
    {
     "name": "stdout",
     "output_type": "stream",
     "text": [
      "                                             comment    label\n",
      "0  pengiriman cepat, udah order beberapa kali gap...   Netral\n",
      "1             produk nya bagus sesuai dengan pesanan  Positif\n",
      "2                tekstur bagus, light, warna natural  Positif\n",
      "3  performa:luntur . klo gt mending maybeline . d...  Negatif\n",
      "4  pengemasannya perlu diperbaiki, lbh baik dibun...   Netral\n"
     ]
    }
   ],
   "source": [
    "import pandas as pd\n",
    "from datasets import load_dataset\n",
    "\n",
    "# Memuat dataset\n",
    "file_ds = load_dataset(\"sekarmulyani/ulasan-beauty-products\")\n",
    "df = pd.DataFrame(file_ds['validation'])\n",
    "\n",
    "# Fungsi untuk mengategorikan label berdasarkan bintang\n",
    "def categorize_label(row):\n",
    "    if row['Bintang 4'] or row['Bintang 5']:\n",
    "        return \"Positif\"\n",
    "    elif row['Bintang 3']:\n",
    "        return \"Netral\"\n",
    "    elif row['Bintang 1'] or row['Bintang 2']:\n",
    "        return \"Negatif\"\n",
    "    else:\n",
    "        return \"Unknown\"\n",
    "\n",
    "# Menambahkan kolom label berdasarkan kondisi bintang\n",
    "df[\"label\"] = df.apply(categorize_label, axis=1)\n",
    "\n",
    "# Mengubah nama kolom Review menjadi comment\n",
    "df.rename(columns={\"Review\": \"comment\"}, inplace=True)\n",
    "\n",
    "# Menampilkan hasil hanya dengan kolom comment dan label\n",
    "print(df[[\"comment\", \"label\"]].head())\n",
    "\n",
    "# Opsional: Simpan ke file CSV jika diperlukan\n",
    "df[[\"comment\", \"label\"]].to_csv(\"../dataset/hg-Sekar/dataset-testTerformat.csv\", index=False)\n"
   ]
  },
  {
   "cell_type": "markdown",
   "metadata": {},
   "source": [
    "#### Validation"
   ]
  },
  {
   "cell_type": "code",
   "execution_count": 18,
   "metadata": {},
   "outputs": [
    {
     "name": "stdout",
     "output_type": "stream",
     "text": [
      "                                             comment    label\n",
      "0                  proses pengirimannya terlalu lama  Negatif\n",
      "1  aneh bgt jual brow product tp ga include kuasn...  Negatif\n",
      "2  barang sudah sampai sesuai deskripsi, wanginya...  Positif\n",
      "3  pesan 3 kemasan miranda,slh satunya sdh berkur...  Negatif\n",
      "4  kualitas produk agak diragukan karena warna ai...  Negatif\n"
     ]
    }
   ],
   "source": [
    "import pandas as pd\n",
    "from datasets import load_dataset\n",
    "\n",
    "# Memuat dataset\n",
    "file_ds = load_dataset(\"sekarmulyani/ulasan-beauty-products\")\n",
    "df = pd.DataFrame(file_ds['test'])\n",
    "\n",
    "# Fungsi untuk mengategorikan label berdasarkan bintang\n",
    "def categorize_label(row):\n",
    "    if row['Bintang 4'] or row['Bintang 5']:\n",
    "        return \"Positif\"\n",
    "    elif row['Bintang 3']:\n",
    "        return \"Netral\"\n",
    "    elif row['Bintang 1'] or row['Bintang 2']:\n",
    "        return \"Negatif\"\n",
    "    else:\n",
    "        return \"Unknown\"\n",
    "\n",
    "# Menambahkan kolom label berdasarkan kondisi bintang\n",
    "df[\"label\"] = df.apply(categorize_label, axis=1)\n",
    "\n",
    "# Mengubah nama kolom Review menjadi comment\n",
    "df.rename(columns={\"Review\": \"comment\"}, inplace=True)\n",
    "\n",
    "# Menampilkan hasil hanya dengan kolom comment dan label\n",
    "print(df[[\"comment\", \"label\"]].head())\n",
    "\n",
    "# Opsional: Simpan ke file CSV jika diperlukan\n",
    "df[[\"comment\", \"label\"]].to_csv(\"../dataset/hg-Sekar/dataset-valTerformat.csv\", index=False)\n"
   ]
  },
  {
   "cell_type": "markdown",
   "metadata": {},
   "source": [
    "#### Validation"
   ]
  },
  {
   "cell_type": "markdown",
   "metadata": {},
   "source": [
    "##### Cleaning Converted Dataset"
   ]
  },
  {
   "cell_type": "markdown",
   "metadata": {},
   "source": [
    "##### Train"
   ]
  },
  {
   "cell_type": "code",
   "execution_count": null,
   "metadata": {},
   "outputs": [],
   "source": [
    "import pandas as pd\n",
    "\n",
    "# Load the dataset\n",
    "file_path = \"../dataset/hg-sekar/dataset-trainTerformat.csv\"\n",
    "datasetTrain = pd.read_csv(file_path)\n",
    "\n",
    "# Display the first few rows of the datasetTrain to understand its structure\n",
    "datasetTrain.head(), datasetTrain.info()\n",
    "\n",
    "##### Cek Kondisi Dataset #####\n",
    "# Cek jumlah nilai yang hilang\n",
    "print(datasetTrain.isnull().sum())\n",
    "\n",
    "print(\"\\n❓ Jumlah Missing Values:\")\n",
    "print(datasetTrain.isnull().sum())\n",
    "\n",
    "print(\"\\n♻️ Jumlah Duplikat:\", datasetTrain.duplicated(subset=['comment']).sum())\n",
    "\n",
    "# Cek jumlah nilai yang hilang\n",
    "print(datasetTrain.isnull().sum())\n",
    "\n",
    "print(\"\\n❓ Jumlah Missing Values:\")\n",
    "print(datasetTrain.isnull().sum())\n",
    "\n",
    "print(\"\\n♻️ Jumlah Duplikat:\", datasetTrain.duplicated(subset=['comment']).sum())\n",
    "\n",
    "\n",
    "##### Pembersihan Dataset #####\n",
    "# Hapus baris dengan komentar null (10 data)\n",
    "cleanedDatasetTrain = datasetTrain.dropna(subset=['comment'])\n",
    "\n",
    "# Hapus baris dengan komentar duplikat\n",
    "cleanedDatasetTrain = datasetTrain.drop_duplicates(subset=['comment'], keep='first')\n",
    "\n",
    "# Case folding\n",
    "cleanedDatasetTrain['comment'] = datasetTrain['comment'].str.lower()\n",
    "cleanedDatasetTrain['label'] = datasetTrain['label'].str.lower()\n",
    "\n",
    "# Remove special characters (sesuaikan dengan kebutuhan)\n",
    "cleanedDatasetTrain['comment'] = datasetTrain['comment'].str.replace(\n",
    "    r'[^\\w\\s]', '', regex=True\n",
    ")\n",
    "\n",
    "# Remove extra whitespace\n",
    "cleanedDatasetTrain['comment'] = datasetTrain['comment'].str.strip()\n",
    "\n",
    "print(\"✅ Shape setelah cleaning:\", cleanedDatasetTrain.shape)\n",
    "print(\"✅ Jumlah Missing Values baru:\", cleanedDatasetTrain.isnull().sum())\n",
    "print(\"\\n📝 Contoh Data Bersih:\")\n",
    "print(cleanedDatasetTrain[['comment']].head(3))\n",
    "\n",
    "cleanedDatasetTrain.to_csv(\"../dataset/hg-Sekar/cleaned-trainHgSekar.csv\", index=False)"
   ]
  },
  {
   "cell_type": "markdown",
   "metadata": {},
   "source": [
    "##### Test"
   ]
  },
  {
   "cell_type": "code",
   "execution_count": 45,
   "metadata": {},
   "outputs": [
    {
     "name": "stdout",
     "output_type": "stream",
     "text": [
      "<class 'pandas.core.frame.DataFrame'>\n",
      "RangeIndex: 57192 entries, 0 to 57191\n",
      "Data columns (total 2 columns):\n",
      " #   Column   Non-Null Count  Dtype \n",
      "---  ------   --------------  ----- \n",
      " 0   comment  57192 non-null  object\n",
      " 1   label    57192 non-null  object\n",
      "dtypes: object(2)\n",
      "memory usage: 893.8+ KB\n",
      "comment    0\n",
      "label      0\n",
      "dtype: int64\n",
      "\n",
      "❓ Jumlah Missing Values:\n",
      "comment    0\n",
      "label      0\n",
      "dtype: int64\n",
      "\n",
      "♻️ Jumlah Duplikat: 566\n",
      "comment    0\n",
      "label      0\n",
      "dtype: int64\n",
      "\n",
      "❓ Jumlah Missing Values:\n",
      "comment    0\n",
      "label      0\n",
      "dtype: int64\n",
      "\n",
      "♻️ Jumlah Duplikat: 566\n",
      "✅ Shape setelah cleaning: (56626, 2)\n",
      "✅ Jumlah Missing Values baru: comment    0\n",
      "label      0\n",
      "dtype: int64\n",
      "\n",
      "📝 Contoh Data Bersih:\n",
      "                                             comment\n",
      "0  terima kasih shoppe paket ny udah datang denga...\n",
      "1  kecewa sekali box nya kurang rapi dan produkny...\n",
      "2  it's been days and the itch still haven't gone...\n"
     ]
    },
    {
     "name": "stderr",
     "output_type": "stream",
     "text": [
      "C:\\Users\\rfahr\\AppData\\Local\\Temp\\ipykernel_27788\\1043969852.py:36: SettingWithCopyWarning: \n",
      "A value is trying to be set on a copy of a slice from a DataFrame.\n",
      "Try using .loc[row_indexer,col_indexer] = value instead\n",
      "\n",
      "See the caveats in the documentation: https://pandas.pydata.org/pandas-docs/stable/user_guide/indexing.html#returning-a-view-versus-a-copy\n",
      "  cleanedDatasetTest['comment'] = DatasetTest['comment'].str.lower()\n",
      "C:\\Users\\rfahr\\AppData\\Local\\Temp\\ipykernel_27788\\1043969852.py:37: SettingWithCopyWarning: \n",
      "A value is trying to be set on a copy of a slice from a DataFrame.\n",
      "Try using .loc[row_indexer,col_indexer] = value instead\n",
      "\n",
      "See the caveats in the documentation: https://pandas.pydata.org/pandas-docs/stable/user_guide/indexing.html#returning-a-view-versus-a-copy\n",
      "  cleanedDatasetTest['label'] = DatasetTest['label'].str.lower()\n",
      "C:\\Users\\rfahr\\AppData\\Local\\Temp\\ipykernel_27788\\1043969852.py:40: SettingWithCopyWarning: \n",
      "A value is trying to be set on a copy of a slice from a DataFrame.\n",
      "Try using .loc[row_indexer,col_indexer] = value instead\n",
      "\n",
      "See the caveats in the documentation: https://pandas.pydata.org/pandas-docs/stable/user_guide/indexing.html#returning-a-view-versus-a-copy\n",
      "  cleanedDatasetTest['comment'] = DatasetTest['comment'].str.replace(\n",
      "C:\\Users\\rfahr\\AppData\\Local\\Temp\\ipykernel_27788\\1043969852.py:45: SettingWithCopyWarning: \n",
      "A value is trying to be set on a copy of a slice from a DataFrame.\n",
      "Try using .loc[row_indexer,col_indexer] = value instead\n",
      "\n",
      "See the caveats in the documentation: https://pandas.pydata.org/pandas-docs/stable/user_guide/indexing.html#returning-a-view-versus-a-copy\n",
      "  cleanedDatasetTest['comment'] = DatasetTest['comment'].str.strip()\n"
     ]
    }
   ],
   "source": [
    "import pandas as pd\n",
    "\n",
    "# Load the dataset\n",
    "file_path = \"../dataset/hg-sekar/dataset-trainTerformat.csv\"\n",
    "DatasetTest = pd.read_csv(file_path)\n",
    "\n",
    "# Display the first few rows of the DatasetTest to understand its structure\n",
    "DatasetTest.head(), DatasetTest.info()\n",
    "\n",
    "##### Cek Kondisi Dataset #####\n",
    "# Cek jumlah nilai yang hilang\n",
    "print(DatasetTest.isnull().sum())\n",
    "\n",
    "print(\"\\n❓ Jumlah Missing Values:\")\n",
    "print(DatasetTest.isnull().sum())\n",
    "\n",
    "print(\"\\n♻️ Jumlah Duplikat:\", DatasetTest.duplicated(subset=['comment']).sum())\n",
    "\n",
    "# Cek jumlah nilai yang hilang\n",
    "print(DatasetTest.isnull().sum())\n",
    "\n",
    "print(\"\\n❓ Jumlah Missing Values:\")\n",
    "print(DatasetTest.isnull().sum())\n",
    "\n",
    "print(\"\\n♻️ Jumlah Duplikat:\", DatasetTest.duplicated(subset=['comment']).sum())\n",
    "\n",
    "\n",
    "##### Pembersihan Dataset #####\n",
    "# Hapus baris dengan komentar null (10 data)\n",
    "cleanedDatasetTest = DatasetTest.dropna(subset=['comment'])\n",
    "\n",
    "# Hapus baris dengan komentar duplikat\n",
    "cleanedDatasetTest = DatasetTest.drop_duplicates(subset=['comment'], keep='first')\n",
    "\n",
    "# Case folding\n",
    "cleanedDatasetTest['comment'] = DatasetTest['comment'].str.lower()\n",
    "cleanedDatasetTest['label'] = DatasetTest['label'].str.lower()\n",
    "\n",
    "# Remove special characters (sesuaikan dengan kebutuhan)\n",
    "cleanedDatasetTest['comment'] = DatasetTest['comment'].str.replace(\n",
    "    r'[^\\w\\s]', '', regex=True\n",
    ")\n",
    "\n",
    "# Remove extra whitespace\n",
    "cleanedDatasetTest['comment'] = DatasetTest['comment'].str.strip()\n",
    "\n",
    "print(\"✅ Shape setelah cleaning:\", cleanedDatasetTest.shape)\n",
    "print(\"✅ Jumlah Missing Values baru:\", cleanedDatasetTest.isnull().sum())\n",
    "print(\"\\n📝 Contoh Data Bersih:\")\n",
    "print(cleanedDatasetTest[['comment']].head(3))\n",
    "\n",
    "cleanedDatasetTest.to_csv(\"../dataset/hg-Sekar/cleaned-testHgSekar.csv\", index=False)"
   ]
  },
  {
   "cell_type": "markdown",
   "metadata": {},
   "source": [
    "#### Validation"
   ]
  },
  {
   "cell_type": "code",
   "execution_count": 46,
   "metadata": {},
   "outputs": [
    {
     "name": "stdout",
     "output_type": "stream",
     "text": [
      "<class 'pandas.core.frame.DataFrame'>\n",
      "RangeIndex: 57192 entries, 0 to 57191\n",
      "Data columns (total 2 columns):\n",
      " #   Column   Non-Null Count  Dtype \n",
      "---  ------   --------------  ----- \n",
      " 0   comment  57192 non-null  object\n",
      " 1   label    57192 non-null  object\n",
      "dtypes: object(2)\n",
      "memory usage: 893.8+ KB\n",
      "comment    0\n",
      "label      0\n",
      "dtype: int64\n",
      "\n",
      "❓ Jumlah Missing Values:\n",
      "comment    0\n",
      "label      0\n",
      "dtype: int64\n",
      "\n",
      "♻️ Jumlah Duplikat: 566\n",
      "comment    0\n",
      "label      0\n",
      "dtype: int64\n",
      "\n",
      "❓ Jumlah Missing Values:\n",
      "comment    0\n",
      "label      0\n",
      "dtype: int64\n",
      "\n",
      "♻️ Jumlah Duplikat: 566\n",
      "✅ Shape setelah cleaning: (56626, 2)\n",
      "✅ Jumlah Missing Values baru: comment    0\n",
      "label      0\n",
      "dtype: int64\n",
      "\n",
      "📝 Contoh Data Bersih:\n",
      "                                             comment\n",
      "0  terima kasih shoppe paket ny udah datang denga...\n",
      "1  kecewa sekali box nya kurang rapi dan produkny...\n",
      "2  it's been days and the itch still haven't gone...\n"
     ]
    },
    {
     "name": "stderr",
     "output_type": "stream",
     "text": [
      "C:\\Users\\rfahr\\AppData\\Local\\Temp\\ipykernel_27788\\784277921.py:36: SettingWithCopyWarning: \n",
      "A value is trying to be set on a copy of a slice from a DataFrame.\n",
      "Try using .loc[row_indexer,col_indexer] = value instead\n",
      "\n",
      "See the caveats in the documentation: https://pandas.pydata.org/pandas-docs/stable/user_guide/indexing.html#returning-a-view-versus-a-copy\n",
      "  cleanedDatasetVal['comment'] = DatasetVal['comment'].str.lower()\n",
      "C:\\Users\\rfahr\\AppData\\Local\\Temp\\ipykernel_27788\\784277921.py:37: SettingWithCopyWarning: \n",
      "A value is trying to be set on a copy of a slice from a DataFrame.\n",
      "Try using .loc[row_indexer,col_indexer] = value instead\n",
      "\n",
      "See the caveats in the documentation: https://pandas.pydata.org/pandas-docs/stable/user_guide/indexing.html#returning-a-view-versus-a-copy\n",
      "  cleanedDatasetVal['label'] = DatasetVal['label'].str.lower()\n",
      "C:\\Users\\rfahr\\AppData\\Local\\Temp\\ipykernel_27788\\784277921.py:40: SettingWithCopyWarning: \n",
      "A value is trying to be set on a copy of a slice from a DataFrame.\n",
      "Try using .loc[row_indexer,col_indexer] = value instead\n",
      "\n",
      "See the caveats in the documentation: https://pandas.pydata.org/pandas-docs/stable/user_guide/indexing.html#returning-a-view-versus-a-copy\n",
      "  cleanedDatasetVal['comment'] = DatasetVal['comment'].str.replace(\n",
      "C:\\Users\\rfahr\\AppData\\Local\\Temp\\ipykernel_27788\\784277921.py:45: SettingWithCopyWarning: \n",
      "A value is trying to be set on a copy of a slice from a DataFrame.\n",
      "Try using .loc[row_indexer,col_indexer] = value instead\n",
      "\n",
      "See the caveats in the documentation: https://pandas.pydata.org/pandas-docs/stable/user_guide/indexing.html#returning-a-view-versus-a-copy\n",
      "  cleanedDatasetVal['comment'] = DatasetVal['comment'].str.strip()\n"
     ]
    }
   ],
   "source": [
    "import pandas as pd\n",
    "\n",
    "# Load the dataset\n",
    "file_path = \"../dataset/hg-sekar/dataset-trainTerformat.csv\"\n",
    "DatasetVal = pd.read_csv(file_path)\n",
    "\n",
    "# Display the first few rows of the DatasetVal to understand its structure\n",
    "DatasetVal.head(), DatasetVal.info()\n",
    "\n",
    "##### Cek Kondisi Dataset #####\n",
    "# Cek jumlah nilai yang hilang\n",
    "print(DatasetVal.isnull().sum())\n",
    "\n",
    "print(\"\\n❓ Jumlah Missing Values:\")\n",
    "print(DatasetVal.isnull().sum())\n",
    "\n",
    "print(\"\\n♻️ Jumlah Duplikat:\", DatasetVal.duplicated(subset=['comment']).sum())\n",
    "\n",
    "# Cek jumlah nilai yang hilang\n",
    "print(DatasetVal.isnull().sum())\n",
    "\n",
    "print(\"\\n❓ Jumlah Missing Values:\")\n",
    "print(DatasetVal.isnull().sum())\n",
    "\n",
    "print(\"\\n♻️ Jumlah Duplikat:\", DatasetVal.duplicated(subset=['comment']).sum())\n",
    "\n",
    "\n",
    "##### Pembersihan Dataset #####\n",
    "# Hapus baris dengan komentar null (10 data)\n",
    "cleanedDatasetVal = DatasetVal.dropna(subset=['comment'])\n",
    "\n",
    "# Hapus baris dengan komentar duplikat\n",
    "cleanedDatasetVal = DatasetVal.drop_duplicates(subset=['comment'], keep='first')\n",
    "\n",
    "# Case folding\n",
    "cleanedDatasetVal['comment'] = DatasetVal['comment'].str.lower()\n",
    "cleanedDatasetVal['label'] = DatasetVal['label'].str.lower()\n",
    "\n",
    "# Remove special characters (sesuaikan dengan kebutuhan)\n",
    "cleanedDatasetVal['comment'] = DatasetVal['comment'].str.replace(\n",
    "    r'[^\\w\\s]', '', regex=True\n",
    ")\n",
    "\n",
    "# Remove extra whitespace\n",
    "cleanedDatasetVal['comment'] = DatasetVal['comment'].str.strip()\n",
    "\n",
    "print(\"✅ Shape setelah cleaning:\", cleanedDatasetVal.shape)\n",
    "print(\"✅ Jumlah Missing Values baru:\", cleanedDatasetVal.isnull().sum())\n",
    "print(\"\\n📝 Contoh Data Bersih:\")\n",
    "print(cleanedDatasetVal[['comment']].head(3))\n",
    "\n",
    "cleanedDatasetVal.to_csv(\"../dataset/hg-Sekar/cleaned-valHgSekar.csv\", index=False)"
   ]
  },
  {
   "cell_type": "code",
   "execution_count": null,
   "metadata": {},
   "outputs": [],
   "source": []
  }
 ],
 "metadata": {
  "kernelspec": {
   "display_name": "base",
   "language": "python",
   "name": "python3"
  },
  "language_info": {
   "codemirror_mode": {
    "name": "ipython",
    "version": 3
   },
   "file_extension": ".py",
   "mimetype": "text/x-python",
   "name": "python",
   "nbconvert_exporter": "python",
   "pygments_lexer": "ipython3",
   "version": "3.12.7"
  }
 },
 "nbformat": 4,
 "nbformat_minor": 2
}
