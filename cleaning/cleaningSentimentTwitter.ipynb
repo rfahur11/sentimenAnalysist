{
 "cells": [
  {
   "cell_type": "code",
   "execution_count": 1,
   "metadata": {},
   "outputs": [
    {
     "name": "stdout",
     "output_type": "stream",
     "text": [
      "<class 'pandas.core.frame.DataFrame'>\n",
      "RangeIndex: 3766 entries, 0 to 3765\n",
      "Data columns (total 3 columns):\n",
      " #   Column   Non-Null Count  Dtype \n",
      "---  ------   --------------  ----- \n",
      " 0   No.      3766 non-null   int64 \n",
      " 1   comment  3766 non-null   object\n",
      " 2   label    3766 non-null   object\n",
      "dtypes: int64(1), object(2)\n",
      "memory usage: 88.4+ KB\n"
     ]
    },
    {
     "data": {
      "text/plain": [
       "(   No.                                            comment    label\n",
       " 0    1  Produk ini sangat bagus! Kulitku jadi lebih ha...  Positif\n",
       " 1    2  Aku kecewa, tidak ada perubahan setelah pemaka...  Negatif\n",
       " 2    3  Biasa saja, tidak terlalu buruk tapi juga tida...   Netral\n",
       " 3    4  Wanginya enak dan cepat meresap ke kulit, suka...  Positif\n",
       " 4    5  Teksturnya terlalu lengket dan bikin wajahku b...  Negatif,\n",
       " None)"
      ]
     },
     "execution_count": 1,
     "metadata": {},
     "output_type": "execute_result"
    }
   ],
   "source": [
    "import pandas as pd\n",
    "\n",
    "# Load the dataset\n",
    "file_path = \"../dataset/fileconverts (2).csv\"\n",
    "dataset = pd.read_csv(file_path)\n",
    "\n",
    "# Display the first few rows of the dataset to understand its structure\n",
    "dataset.head(), dataset.info()"
   ]
  },
  {
   "cell_type": "code",
   "execution_count": 2,
   "metadata": {},
   "outputs": [
    {
     "name": "stdout",
     "output_type": "stream",
     "text": [
      "No.        0\n",
      "comment    0\n",
      "label      0\n",
      "dtype: int64\n",
      "\n",
      "❓ Jumlah Missing Values:\n",
      "No.        0\n",
      "comment    0\n",
      "label      0\n",
      "dtype: int64\n",
      "\n",
      "♻️ Jumlah Duplikat: 1399\n"
     ]
    }
   ],
   "source": [
    "# Cek jumlah nilai yang hilang\n",
    "print(dataset.isnull().sum())\n",
    "\n",
    "print(\"\\n❓ Jumlah Missing Values:\")\n",
    "print(dataset.isnull().sum())\n",
    "\n",
    "print(\"\\n♻️ Jumlah Duplikat:\", dataset.duplicated(subset=['comment']).sum())"
   ]
  },
  {
   "cell_type": "code",
   "execution_count": 8,
   "metadata": {},
   "outputs": [
    {
     "name": "stdout",
     "output_type": "stream",
     "text": [
      "<class 'pandas.core.frame.DataFrame'>\n",
      "RangeIndex: 3766 entries, 0 to 3765\n",
      "Data columns (total 3 columns):\n",
      " #   Column   Non-Null Count  Dtype \n",
      "---  ------   --------------  ----- \n",
      " 0   No.      3766 non-null   int64 \n",
      " 1   comment  3766 non-null   object\n",
      " 2   label    3766 non-null   object\n",
      "dtypes: int64(1), object(2)\n",
      "memory usage: 88.4+ KB\n",
      "No.        0\n",
      "comment    0\n",
      "label      0\n",
      "dtype: int64\n",
      "\n",
      "❓ Jumlah Missing Values:\n",
      "No.        0\n",
      "comment    0\n",
      "label      0\n",
      "dtype: int64\n",
      "\n",
      "♻️ Jumlah Duplikat: 1399\n",
      "No.        0\n",
      "comment    0\n",
      "label      0\n",
      "dtype: int64\n",
      "\n",
      "❓ Jumlah Missing Values:\n",
      "No.        0\n",
      "comment    0\n",
      "label      0\n",
      "dtype: int64\n",
      "\n",
      "♻️ Jumlah Duplikat: 1399\n",
      "✅ Shape setelah cleaning: (2367, 3)\n",
      "✅ Jumlah Missing Values baru: No.        0\n",
      "comment    0\n",
      "label      0\n",
      "dtype: int64\n",
      "\n",
      "📝 Contoh Data Bersih:\n",
      "                                             comment\n",
      "0  Produk ini sangat bagus! Kulitku jadi lebih ha...\n",
      "1  Aku kecewa, tidak ada perubahan setelah pemaka...\n",
      "2  Biasa saja, tidak terlalu buruk tapi juga tida...\n"
     ]
    },
    {
     "name": "stderr",
     "output_type": "stream",
     "text": [
      "C:\\Users\\rfahr\\AppData\\Local\\Temp\\ipykernel_9064\\4160418096.py:36: SettingWithCopyWarning: \n",
      "A value is trying to be set on a copy of a slice from a DataFrame.\n",
      "Try using .loc[row_indexer,col_indexer] = value instead\n",
      "\n",
      "See the caveats in the documentation: https://pandas.pydata.org/pandas-docs/stable/user_guide/indexing.html#returning-a-view-versus-a-copy\n",
      "  cleanedDatasetTest['comment'] = DatasetTest['comment'].str.lower()\n",
      "C:\\Users\\rfahr\\AppData\\Local\\Temp\\ipykernel_9064\\4160418096.py:37: SettingWithCopyWarning: \n",
      "A value is trying to be set on a copy of a slice from a DataFrame.\n",
      "Try using .loc[row_indexer,col_indexer] = value instead\n",
      "\n",
      "See the caveats in the documentation: https://pandas.pydata.org/pandas-docs/stable/user_guide/indexing.html#returning-a-view-versus-a-copy\n",
      "  cleanedDatasetTest['label'] = DatasetTest['label'].str.lower()\n",
      "C:\\Users\\rfahr\\AppData\\Local\\Temp\\ipykernel_9064\\4160418096.py:40: SettingWithCopyWarning: \n",
      "A value is trying to be set on a copy of a slice from a DataFrame.\n",
      "Try using .loc[row_indexer,col_indexer] = value instead\n",
      "\n",
      "See the caveats in the documentation: https://pandas.pydata.org/pandas-docs/stable/user_guide/indexing.html#returning-a-view-versus-a-copy\n",
      "  cleanedDatasetTest['comment'] = DatasetTest['comment'].str.replace(\n",
      "C:\\Users\\rfahr\\AppData\\Local\\Temp\\ipykernel_9064\\4160418096.py:45: SettingWithCopyWarning: \n",
      "A value is trying to be set on a copy of a slice from a DataFrame.\n",
      "Try using .loc[row_indexer,col_indexer] = value instead\n",
      "\n",
      "See the caveats in the documentation: https://pandas.pydata.org/pandas-docs/stable/user_guide/indexing.html#returning-a-view-versus-a-copy\n",
      "  cleanedDatasetTest['comment'] = DatasetTest['comment'].str.strip()\n"
     ]
    }
   ],
   "source": [
    "import pandas as pd\n",
    "\n",
    "# Load the dataset\n",
    "file_path = \"../dataset/fileconverts (2).csv\"\n",
    "DatasetTest = pd.read_csv(file_path)\n",
    "\n",
    "# Display the first few rows of the DatasetTest to understand its structure\n",
    "DatasetTest.head(), DatasetTest.info()\n",
    "\n",
    "##### Cek Kondisi Dataset #####\n",
    "# Cek jumlah nilai yang hilang\n",
    "print(DatasetTest.isnull().sum())\n",
    "\n",
    "print(\"\\n❓ Jumlah Missing Values:\")\n",
    "print(DatasetTest.isnull().sum())\n",
    "\n",
    "print(\"\\n♻️ Jumlah Duplikat:\", DatasetTest.duplicated(subset=['comment']).sum())\n",
    "\n",
    "# Cek jumlah nilai yang hilang\n",
    "print(DatasetTest.isnull().sum())\n",
    "\n",
    "print(\"\\n❓ Jumlah Missing Values:\")\n",
    "print(DatasetTest.isnull().sum())\n",
    "\n",
    "print(\"\\n♻️ Jumlah Duplikat:\", DatasetTest.duplicated(subset=['comment']).sum())\n",
    "\n",
    "\n",
    "##### Pembersihan Dataset #####\n",
    "# Hapus baris dengan komentar null (10 data)\n",
    "cleanedDatasetTest = DatasetTest.dropna(subset=['comment'])\n",
    "\n",
    "# Hapus baris dengan komentar duplikat\n",
    "cleanedDatasetTest = DatasetTest.drop_duplicates(subset=['comment'], keep='first')\n",
    "\n",
    "# Case folding\n",
    "cleanedDatasetTest['comment'] = DatasetTest['comment'].str.lower()\n",
    "cleanedDatasetTest['label'] = DatasetTest['label'].str.lower()\n",
    "\n",
    "# Remove special characters (sesuaikan dengan kebutuhan)\n",
    "cleanedDatasetTest['comment'] = DatasetTest['comment'].str.replace(\n",
    "    r'[^\\w\\s]', '', regex=True\n",
    ")\n",
    "\n",
    "# Remove extra whitespace\n",
    "cleanedDatasetTest['comment'] = DatasetTest['comment'].str.strip()\n",
    "\n",
    "print(\"✅ Shape setelah cleaning:\", cleanedDatasetTest.shape)\n",
    "print(\"✅ Jumlah Missing Values baru:\", cleanedDatasetTest.isnull().sum())\n",
    "print(\"\\n📝 Contoh Data Bersih:\")\n",
    "print(cleanedDatasetTest[['comment']].head(3))\n",
    "\n",
    "cleanedDatasetTest.to_csv(\"../dataset/cleaned-valDataset.csv\", index=False)"
   ]
  },
  {
   "cell_type": "code",
   "execution_count": 7,
   "metadata": {},
   "outputs": [
    {
     "name": "stdout",
     "output_type": "stream",
     "text": [
      "✅ Shape setelah cleaning: (2367, 3)\n",
      "✅ Jumlah Missing Values baru: No.        0\n",
      "comment    0\n",
      "label      0\n",
      "dtype: int64\n",
      "\n",
      "📝 Contoh Data Bersih:\n",
      "                                             comment\n",
      "0  Produk ini sangat bagus! Kulitku jadi lebih ha...\n",
      "1  Aku kecewa, tidak ada perubahan setelah pemaka...\n",
      "2  Biasa saja, tidak terlalu buruk tapi juga tida...\n"
     ]
    }
   ],
   "source": [
    "print(\"✅ Shape setelah cleaning:\", cleanedDatasetTest.shape)\n",
    "print(\"✅ Jumlah Missing Values baru:\", cleanedDatasetTest.isnull().sum())\n",
    "print(\"\\n📝 Contoh Data Bersih:\")\n",
    "print(cleanedDatasetTest[['comment']].head(3))"
   ]
  },
  {
   "cell_type": "code",
   "execution_count": null,
   "metadata": {},
   "outputs": [],
   "source": []
  }
 ],
 "metadata": {
  "kernelspec": {
   "display_name": "base",
   "language": "python",
   "name": "python3"
  },
  "language_info": {
   "codemirror_mode": {
    "name": "ipython",
    "version": 3
   },
   "file_extension": ".py",
   "mimetype": "text/x-python",
   "name": "python",
   "nbconvert_exporter": "python",
   "pygments_lexer": "ipython3",
   "version": "3.12.7"
  }
 },
 "nbformat": 4,
 "nbformat_minor": 2
}
