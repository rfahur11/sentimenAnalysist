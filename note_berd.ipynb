{
 "cells": [
  {
   "cell_type": "markdown",
   "metadata": {},
   "source": []
  },
  {
   "cell_type": "code",
   "execution_count": 1,
   "metadata": {},
   "outputs": [
    {
     "name": "stdout",
     "output_type": "stream",
     "text": [
      "PyTorch Version: 2.6.0+cu124\n",
      "CUDA Available: True\n",
      "CUDA Version: 12.4\n",
      "GPU Name: NVIDIA GeForce RTX 4060 Laptop GPU\n"
     ]
    }
   ],
   "source": [
    "import torch\n",
    "print(\"PyTorch Version:\", torch.__version__)\n",
    "print(\"CUDA Available:\", torch.cuda.is_available())\n",
    "print(\"CUDA Version:\", torch.version.cuda)\n",
    "print(\"GPU Name:\", torch.cuda.get_device_name(0) if torch.cuda.is_available() else \"No GPU detected\")"
   ]
  },
  {
   "cell_type": "code",
   "execution_count": null,
   "metadata": {},
   "outputs": [
    {
     "name": "stdout",
     "output_type": "stream",
     "text": [
      "{'Negatif', 'Positif', 'Netral'}\n"
     ]
    }
   ],
   "source": []
  },
  {
   "cell_type": "code",
   "execution_count": 2,
   "metadata": {},
   "outputs": [],
   "source": [
    "import pandas as pd\n",
    "import torch\n",
    "from torch.utils.data import Dataset, DataLoader\n",
    "from transformers import AutoTokenizer\n",
    "from sklearn.preprocessing import LabelEncoder"
   ]
  },
  {
   "cell_type": "code",
   "execution_count": 18,
   "metadata": {},
   "outputs": [],
   "source": [
    "# Load dataset\n",
    "train_df = pd.read_csv(\"./dataset/rev/cleaned-trainDataset-HgSekar.csv\")\n",
    "valid_df = pd.read_csv(\"./dataset/rev/cleaned-valDataset-chatGPT.csv\")"
   ]
  },
  {
   "cell_type": "code",
   "execution_count": 20,
   "metadata": {},
   "outputs": [
    {
     "name": "stdout",
     "output_type": "stream",
     "text": [
      "set()\n"
     ]
    }
   ],
   "source": [
    "print(set(valid_df['label']) - set(train_df['label']))  # Cek label di validasi yang tidak ada di train"
   ]
  },
  {
   "cell_type": "code",
   "execution_count": 23,
   "metadata": {},
   "outputs": [],
   "source": [
    "valid_df.head()\n",
    "\n",
    "# Label Encoding (Negatif = 0, Netral = 1, Positif = 2)\n",
    "label_encoder = LabelEncoder()\n",
    "train_df['label'] = label_encoder.fit_transform(train_df['label'])\n",
    "valid_df['label'] = label_encoder.transform(valid_df['label'])\n",
    "\n",
    "# Load tokenizer IndoBERT\n",
    "tokenizer = AutoTokenizer.from_pretrained(\"indobenchmark/indobert-base-p1\")\n",
    "\n",
    "# Dataset Class\n",
    "class SentimentDataset(Dataset):\n",
    "    def __init__(self, texts, labels, tokenizer, max_length=128):\n",
    "        self.texts = texts.tolist()\n",
    "        self.labels = labels.tolist()\n",
    "        self.tokenizer = tokenizer\n",
    "        self.max_length = max_length\n",
    "    \n",
    "    def __len__(self):\n",
    "        return len(self.texts)\n",
    "    \n",
    "    def __getitem__(self, idx):\n",
    "        text = self.texts[idx]\n",
    "        label = self.labels[idx]\n",
    "        \n",
    "        # Tokenisasi menggunakan IndoBERT\n",
    "        encoding = self.tokenizer(\n",
    "            text,\n",
    "            truncation=True,\n",
    "            padding='max_length',\n",
    "            max_length=self.max_length,\n",
    "            return_tensors='pt'\n",
    "        )\n",
    "        \n",
    "        return {\n",
    "            'input_ids': encoding['input_ids'].squeeze(0),\n",
    "            'attention_mask': encoding['attention_mask'].squeeze(0),\n",
    "            'label': torch.tensor(label, dtype=torch.long)\n",
    "        }\n",
    "\n",
    "# Buat Dataset & DataLoader\n",
    "train_dataset = SentimentDataset(train_df['comment'], train_df['label'], tokenizer)\n",
    "valid_dataset = SentimentDataset(valid_df['comment'], valid_df['label'], tokenizer)\n",
    "\n",
    "train_loader = DataLoader(train_dataset, batch_size=8, shuffle=True)\n",
    "valid_loader = DataLoader(valid_dataset, batch_size=8, shuffle=False)\n"
   ]
  },
  {
   "cell_type": "code",
   "execution_count": 24,
   "metadata": {},
   "outputs": [],
   "source": [
    "import torch.nn as nn\n",
    "from transformers import AutoModel\n",
    "\n",
    "class IndoBERT_BiLSTM(nn.Module):\n",
    "    def __init__(self, bert_model=\"indobenchmark/indobert-base-p1\", lstm_hidden=128, num_classes=3):\n",
    "        super(IndoBERT_BiLSTM, self).__init__()\n",
    "        \n",
    "        # Load IndoBERT sebagai feature extractor\n",
    "        self.bert = AutoModel.from_pretrained(bert_model)\n",
    "        self.bert.requires_grad_(False)  # Freeze semua layer IndoBERT\n",
    "        \n",
    "        # BiLSTM Layer\n",
    "        self.lstm = nn.LSTM(input_size=768, hidden_size=lstm_hidden, num_layers=2, \n",
    "                            batch_first=True, bidirectional=True, dropout=0.3)\n",
    "        \n",
    "        # Batch Normalization untuk stabilitas training\n",
    "        self.batch_norm = nn.BatchNorm1d(lstm_hidden * 2)\n",
    "        \n",
    "        # Fully Connected Layer\n",
    "        self.fc = nn.Linear(lstm_hidden * 2, num_classes)\n",
    "        self.dropout = nn.Dropout(0.3)\n",
    "    \n",
    "    def forward(self, input_ids, attention_mask):\n",
    "        with torch.no_grad():\n",
    "            bert_output = self.bert(input_ids=input_ids, attention_mask=attention_mask)\n",
    "        \n",
    "        # Ambil vektor CLS sebagai representasi kalimat\n",
    "        bert_embedding = bert_output.last_hidden_state[:, 0, :]\n",
    "        \n",
    "        # Masukkan ke BiLSTM\n",
    "        lstm_out, _ = self.lstm(bert_embedding.unsqueeze(1))\n",
    "        lstm_out = lstm_out[:, -1, :]  # Ambil output terakhir BiLSTM\n",
    "        \n",
    "        # Normalisasi + Dropout\n",
    "        lstm_out = self.batch_norm(lstm_out)\n",
    "        lstm_out = self.dropout(lstm_out)\n",
    "        \n",
    "        # Klasifikasi\n",
    "        output = self.fc(lstm_out)\n",
    "        return output"
   ]
  },
  {
   "cell_type": "code",
   "execution_count": 25,
   "metadata": {},
   "outputs": [
    {
     "name": "stdout",
     "output_type": "stream",
     "text": [
      "Epoch 1: Train Loss=0.8556, Train Acc=0.6225 | Valid Loss=0.7428, Valid Acc=0.5948\n",
      "Epoch 2: Train Loss=0.8075, Train Acc=0.6480 | Valid Loss=0.7722, Valid Acc=0.5260\n",
      "Epoch 3: Train Loss=0.7910, Train Acc=0.6587 | Valid Loss=0.6385, Valid Acc=0.6629\n",
      "Epoch 4: Train Loss=0.7841, Train Acc=0.6609 | Valid Loss=0.8138, Valid Acc=0.5091\n",
      "Epoch 5: Train Loss=0.7793, Train Acc=0.6650 | Valid Loss=0.6678, Valid Acc=0.6050\n",
      "Epoch 6: Train Loss=0.7746, Train Acc=0.6655 | Valid Loss=0.7713, Valid Acc=0.5234\n",
      "Early stopping triggered.\n"
     ]
    }
   ],
   "source": [
    "import torch.optim as optim\n",
    "from sklearn.metrics import accuracy_score\n",
    "\n",
    "device = torch.device(\"cuda\" if torch.cuda.is_available() else \"cpu\")\n",
    "\n",
    "# Inisialisasi model\n",
    "model = IndoBERT_BiLSTM().to(device)\n",
    "\n",
    "# Loss dan optimizer\n",
    "criterion = nn.CrossEntropyLoss()\n",
    "optimizer = optim.AdamW(model.parameters(), lr=1e-4, weight_decay=1e-4)\n",
    "\n",
    "# Training Loop dengan Early Stopping\n",
    "epochs = 15\n",
    "best_valid_loss = float('inf')\n",
    "patience = 3  # Early stopping jika tidak ada perbaikan setelah 3 epoch\n",
    "patience_counter = 0\n",
    "\n",
    "for epoch in range(epochs):\n",
    "    model.train()\n",
    "    total_loss, total_acc = 0, 0\n",
    "    \n",
    "    for batch in train_loader:\n",
    "        input_ids = batch['input_ids'].to(device)\n",
    "        attention_mask = batch['attention_mask'].to(device)\n",
    "        labels = batch['label'].to(device)\n",
    "        \n",
    "        optimizer.zero_grad()\n",
    "        outputs = model(input_ids, attention_mask)\n",
    "        \n",
    "        loss = criterion(outputs, labels)\n",
    "        loss.backward()\n",
    "        optimizer.step()\n",
    "        \n",
    "        total_loss += loss.item()\n",
    "        total_acc += (outputs.argmax(dim=1) == labels).sum().item()\n",
    "    \n",
    "    train_loss = total_loss / len(train_loader)\n",
    "    train_acc = total_acc / len(train_df)\n",
    "    \n",
    "    # Evaluasi\n",
    "    model.eval()\n",
    "    valid_loss, valid_acc = 0, 0\n",
    "    with torch.no_grad():\n",
    "        for batch in valid_loader:\n",
    "            input_ids = batch['input_ids'].to(device)\n",
    "            attention_mask = batch['attention_mask'].to(device)\n",
    "            labels = batch['label'].to(device)\n",
    "            \n",
    "            outputs = model(input_ids, attention_mask)\n",
    "            loss = criterion(outputs, labels)\n",
    "            \n",
    "            valid_loss += loss.item()\n",
    "            valid_acc += (outputs.argmax(dim=1) == labels).sum().item()\n",
    "    \n",
    "    valid_loss /= len(valid_loader)\n",
    "    valid_acc /= len(valid_df)\n",
    "    \n",
    "    print(f\"Epoch {epoch+1}: Train Loss={train_loss:.4f}, Train Acc={train_acc:.4f} | Valid Loss={valid_loss:.4f}, Valid Acc={valid_acc:.4f}\")\n",
    "    \n",
    "    # Early Stopping\n",
    "    if valid_loss < best_valid_loss:\n",
    "        best_valid_loss = valid_loss\n",
    "        torch.save(model.state_dict(), \"best_model.pth\")\n",
    "        patience_counter = 0\n",
    "    else:\n",
    "        patience_counter += 1\n",
    "        if patience_counter >= patience:\n",
    "            print(\"Early stopping triggered.\")\n",
    "            break\n"
   ]
  },
  {
   "cell_type": "code",
   "execution_count": 26,
   "metadata": {},
   "outputs": [
    {
     "name": "stdout",
     "output_type": "stream",
     "text": [
      "2\n"
     ]
    }
   ],
   "source": [
    "model.load_state_dict(torch.load(\"best_model.pth\"))\n",
    "model.eval()\n",
    "\n",
    "def predict(text, model, tokenizer):\n",
    "    encoding = tokenizer(text, truncation=True, padding='max_length', max_length=128, return_tensors='pt')\n",
    "    input_ids = encoding['input_ids'].to(device)\n",
    "    attention_mask = encoding['attention_mask'].to(device)\n",
    "    \n",
    "    with torch.no_grad():\n",
    "        output = model(input_ids, attention_mask)\n",
    "    \n",
    "    return label_encoder.inverse_transform([torch.argmax(output).item()])[0]\n",
    "\n",
    "# Contoh prediksi\n",
    "print(predict(\"Produk ini luar biasa!\", model, tokenizer))\n"
   ]
  },
  {
   "cell_type": "code",
   "execution_count": 27,
   "metadata": {},
   "outputs": [
    {
     "name": "stdout",
     "output_type": "stream",
     "text": [
      "0\n"
     ]
    }
   ],
   "source": [
    "print(predict(\"Produk ini jelek!\", model, tokenizer))"
   ]
  },
  {
   "cell_type": "code",
   "execution_count": null,
   "metadata": {},
   "outputs": [
    {
     "name": "stdout",
     "output_type": "stream",
     "text": [
      "0\n"
     ]
    }
   ],
   "source": [
    "print(predict(\"Produk ini\", model, tokenizer))"
   ]
  }
 ],
 "metadata": {
  "kernelspec": {
   "display_name": "base",
   "language": "python",
   "name": "python3"
  },
  "language_info": {
   "codemirror_mode": {
    "name": "ipython",
    "version": 3
   },
   "file_extension": ".py",
   "mimetype": "text/x-python",
   "name": "python",
   "nbconvert_exporter": "python",
   "pygments_lexer": "ipython3",
   "version": "3.12.7"
  }
 },
 "nbformat": 4,
 "nbformat_minor": 2
}
